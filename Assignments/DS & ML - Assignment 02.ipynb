{
 "cells": [
  {
   "cell_type": "markdown",
   "id": "ace57fab",
   "metadata": {},
   "source": [
    "# Variables / If-else / Loop"
   ]
  },
  {
   "cell_type": "code",
   "execution_count": 1,
   "id": "e9530ca6",
   "metadata": {},
   "outputs": [
    {
     "name": "stdout",
     "output_type": "stream",
     "text": [
      "y greater\n"
     ]
    }
   ],
   "source": [
    "x = 100\n",
    "y = 200\n",
    "\n",
    "if x>y:\n",
    "    print(\"x greater\")\n",
    "elif x<y:\n",
    "    print(\"y greater\")\n",
    "elif x == y:\n",
    "    print(\"x equals y\")\n",
    "else:\n",
    "    print(\"Null\")"
   ]
  },
  {
   "cell_type": "code",
   "execution_count": 2,
   "id": "dafdd00b",
   "metadata": {},
   "outputs": [
    {
     "name": "stdout",
     "output_type": "stream",
     "text": [
      "x greater\n"
     ]
    }
   ],
   "source": [
    "x = 400\n",
    "y = 200\n",
    "\n",
    "if x>y:\n",
    "    print(\"x greater\")\n",
    "elif x<y:\n",
    "    print(\"y greater\")\n",
    "elif x == y:\n",
    "    print(\"x equals y\")\n",
    "else:\n",
    "    print(\"Null\")"
   ]
  },
  {
   "cell_type": "code",
   "execution_count": 3,
   "id": "dff3c279",
   "metadata": {},
   "outputs": [
    {
     "name": "stdout",
     "output_type": "stream",
     "text": [
      "x equals y\n"
     ]
    }
   ],
   "source": [
    "x = 200\n",
    "y = 200\n",
    "\n",
    "if x>y:\n",
    "    print(\"x greater\")\n",
    "elif x<y:\n",
    "    print(\"y greater\")\n",
    "elif x == y:\n",
    "    print(\"x equals y\")\n",
    "else:\n",
    "    print(\"Null\")"
   ]
  },
  {
   "cell_type": "code",
   "execution_count": 4,
   "id": "05a0d310",
   "metadata": {},
   "outputs": [
    {
     "name": "stdout",
     "output_type": "stream",
     "text": [
      "CSE445\n",
      "CSE440\n",
      "CSE482\n"
     ]
    }
   ],
   "source": [
    "subjects = [\"CSE445\",\"CSE440\",\"CSE482\"]\n",
    "for sub in subjects:\n",
    "    print(sub)"
   ]
  },
  {
   "cell_type": "code",
   "execution_count": 10,
   "id": "b9cc18c2",
   "metadata": {},
   "outputs": [
    {
     "name": "stdout",
     "output_type": "stream",
     "text": [
      "SI: 0 Course Code: CSE115\n",
      "SI: 1 Course Code: CSE215\n",
      "SI: 2 Course Code: CSE225\n",
      "SI: 3 Course Code: CSE311\n"
     ]
    }
   ],
   "source": [
    "courses = [\"CSE115\",\"CSE215\",\"CSE225\",\"CSE311\"]\n",
    "\n",
    "for course in range(len(courses)):\n",
    "    print(\"SI:\",course,\"Course Code:\",courses[course])"
   ]
  },
  {
   "cell_type": "code",
   "execution_count": 11,
   "id": "e397866c",
   "metadata": {},
   "outputs": [
    {
     "name": "stdout",
     "output_type": "stream",
     "text": [
      "1\n",
      "2\n",
      "3\n",
      "4\n",
      "5\n",
      "6\n",
      "7\n",
      "8\n",
      "9\n",
      "10\n"
     ]
    }
   ],
   "source": [
    "for i in range(1,11):\n",
    "    print(i)"
   ]
  },
  {
   "cell_type": "code",
   "execution_count": 13,
   "id": "8af43815",
   "metadata": {},
   "outputs": [
    {
     "name": "stdout",
     "output_type": "stream",
     "text": [
      "1\n",
      "2\n",
      "3\n",
      "4\n",
      "5\n",
      "6\n",
      "7\n",
      "8\n",
      "9\n",
      "10\n"
     ]
    }
   ],
   "source": [
    "i = 1\n",
    "while i<=10:\n",
    "    print(i)\n",
    "    i+=1"
   ]
  },
  {
   "cell_type": "code",
   "execution_count": 14,
   "id": "224c3d3d",
   "metadata": {},
   "outputs": [
    {
     "name": "stdout",
     "output_type": "stream",
     "text": [
      "2\n",
      "4\n",
      "6\n",
      "8\n",
      "10\n"
     ]
    }
   ],
   "source": [
    "numbers = [1,2,3,4,5,6,7,8,9,10]\n",
    "for n in numbers:\n",
    "    if n%2==0:\n",
    "        print(n)"
   ]
  },
  {
   "cell_type": "code",
   "execution_count": 15,
   "id": "588a41ba",
   "metadata": {},
   "outputs": [
    {
     "name": "stdout",
     "output_type": "stream",
     "text": [
      "1\n",
      "3\n",
      "5\n",
      "7\n",
      "9\n"
     ]
    }
   ],
   "source": [
    "numbers = [1,2,3,4,5,6,7,8,9,10]\n",
    "for n in numbers:\n",
    "    if n%2!=0:\n",
    "        print(n)"
   ]
  },
  {
   "cell_type": "code",
   "execution_count": 17,
   "id": "b26511d3",
   "metadata": {},
   "outputs": [
    {
     "name": "stdout",
     "output_type": "stream",
     "text": [
      "Above 10\n",
      "Below 20\n"
     ]
    }
   ],
   "source": [
    "var = 15\n",
    "\n",
    "if var>10:\n",
    "    print(\"Above 10\")\n",
    "    if var>20:\n",
    "        print(\"Above 20\")\n",
    "    else:\n",
    "        print(\"Below 20\")"
   ]
  },
  {
   "cell_type": "code",
   "execution_count": 18,
   "id": "2ca24ee0",
   "metadata": {},
   "outputs": [
    {
     "data": {
      "text/plain": [
       "'IHSANUL HAQUE ASIF'"
      ]
     },
     "execution_count": 18,
     "metadata": {},
     "output_type": "execute_result"
    }
   ],
   "source": [
    "name = \"Ihsanul Haque Asif\"\n",
    "name.upper()"
   ]
  },
  {
   "cell_type": "code",
   "execution_count": 19,
   "id": "ecea478f",
   "metadata": {},
   "outputs": [
    {
     "data": {
      "text/plain": [
       "['Ihsanul', 'Haque', 'Asif']"
      ]
     },
     "execution_count": 19,
     "metadata": {},
     "output_type": "execute_result"
    }
   ],
   "source": [
    "name = \"Ihsanul Haque Asif\"\n",
    "name.split()"
   ]
  },
  {
   "cell_type": "code",
   "execution_count": 1,
   "id": "1c0b2ae2",
   "metadata": {},
   "outputs": [
    {
     "name": "stdout",
     "output_type": "stream",
     "text": [
      "Length:  18\n"
     ]
    }
   ],
   "source": [
    "name = \"Ihsanul Haque Asif\"\n",
    "print(\"Length: \",len(name))"
   ]
  }
 ],
 "metadata": {
  "kernelspec": {
   "display_name": "Python 3 (ipykernel)",
   "language": "python",
   "name": "python3"
  },
  "language_info": {
   "codemirror_mode": {
    "name": "ipython",
    "version": 3
   },
   "file_extension": ".py",
   "mimetype": "text/x-python",
   "name": "python",
   "nbconvert_exporter": "python",
   "pygments_lexer": "ipython3",
   "version": "3.9.12"
  }
 },
 "nbformat": 4,
 "nbformat_minor": 5
}
